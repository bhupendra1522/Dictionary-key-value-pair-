{
 "cells": [
  {
   "cell_type": "markdown",
   "id": "07bda558",
   "metadata": {},
   "source": [
    "# Dictionary--key-value pair"
   ]
  },
  {
   "cell_type": "markdown",
   "id": "8ddf1738",
   "metadata": {},
   "source": [
    "d1={key1:value1,key2:value2,key3:value3}"
   ]
  },
  {
   "cell_type": "code",
   "execution_count": 66,
   "id": "750b5c2c",
   "metadata": {},
   "outputs": [],
   "source": [
    "d1={'id':1,'name':'andrew','age':14}"
   ]
  },
  {
   "cell_type": "code",
   "execution_count": 67,
   "id": "52fd1f35",
   "metadata": {},
   "outputs": [
    {
     "data": {
      "text/plain": [
       "{'id': 1, 'name': 'andrew', 'age': 14}"
      ]
     },
     "execution_count": 67,
     "metadata": {},
     "output_type": "execute_result"
    }
   ],
   "source": [
    "d1"
   ]
  },
  {
   "cell_type": "code",
   "execution_count": 68,
   "id": "dbb18db4",
   "metadata": {},
   "outputs": [
    {
     "data": {
      "text/plain": [
       "dict_keys(['id', 'name', 'age'])"
      ]
     },
     "execution_count": 68,
     "metadata": {},
     "output_type": "execute_result"
    }
   ],
   "source": [
    "d1.keys()"
   ]
  },
  {
   "cell_type": "code",
   "execution_count": 69,
   "id": "6ca879f4",
   "metadata": {},
   "outputs": [
    {
     "data": {
      "text/plain": [
       "dict_values([1, 'andrew', 14])"
      ]
     },
     "execution_count": 69,
     "metadata": {},
     "output_type": "execute_result"
    }
   ],
   "source": [
    "d1.values()"
   ]
  },
  {
   "cell_type": "code",
   "execution_count": 70,
   "id": "cd3e76e2",
   "metadata": {},
   "outputs": [
    {
     "data": {
      "text/plain": [
       "dict_items([('id', 1), ('name', 'andrew'), ('age', 14)])"
      ]
     },
     "execution_count": 70,
     "metadata": {},
     "output_type": "execute_result"
    }
   ],
   "source": [
    "d1.items()"
   ]
  },
  {
   "cell_type": "code",
   "execution_count": 71,
   "id": "122d21b9",
   "metadata": {},
   "outputs": [
    {
     "data": {
      "text/plain": [
       "{'id': 1, 'name': 'andrew', 'age': 14}"
      ]
     },
     "execution_count": 71,
     "metadata": {},
     "output_type": "execute_result"
    }
   ],
   "source": [
    "d1"
   ]
  },
  {
   "cell_type": "code",
   "execution_count": 72,
   "id": "82ac8b4d",
   "metadata": {},
   "outputs": [
    {
     "data": {
      "text/plain": [
       "1"
      ]
     },
     "execution_count": 72,
     "metadata": {},
     "output_type": "execute_result"
    }
   ],
   "source": [
    "d1['id']"
   ]
  },
  {
   "cell_type": "code",
   "execution_count": 73,
   "id": "600d1844",
   "metadata": {},
   "outputs": [
    {
     "data": {
      "text/plain": [
       "'andrew'"
      ]
     },
     "execution_count": 73,
     "metadata": {},
     "output_type": "execute_result"
    }
   ],
   "source": [
    "d1['name']"
   ]
  },
  {
   "cell_type": "code",
   "execution_count": 74,
   "id": "2a02f96c",
   "metadata": {},
   "outputs": [
    {
     "data": {
      "text/plain": [
       "14"
      ]
     },
     "execution_count": 74,
     "metadata": {},
     "output_type": "execute_result"
    }
   ],
   "source": [
    "d1['age']"
   ]
  },
  {
   "cell_type": "code",
   "execution_count": 75,
   "id": "f4ae7b04",
   "metadata": {},
   "outputs": [
    {
     "name": "stdout",
     "output_type": "stream",
     "text": [
      "the id is 1\n"
     ]
    }
   ],
   "source": [
    "print(\"the id is\",d1['id'])"
   ]
  },
  {
   "cell_type": "code",
   "execution_count": 76,
   "id": "388d34f4",
   "metadata": {},
   "outputs": [
    {
     "name": "stdout",
     "output_type": "stream",
     "text": [
      "the name is andrew\n"
     ]
    }
   ],
   "source": [
    "print('the name is',d1['name'])"
   ]
  },
  {
   "cell_type": "code",
   "execution_count": 77,
   "id": "7abf2ed6",
   "metadata": {},
   "outputs": [
    {
     "name": "stdout",
     "output_type": "stream",
     "text": [
      "the age is 14\n"
     ]
    }
   ],
   "source": [
    "print('the age is',d1['age'])"
   ]
  },
  {
   "cell_type": "code",
   "execution_count": 78,
   "id": "59891cd7",
   "metadata": {},
   "outputs": [],
   "source": [
    "d1['age']=24"
   ]
  },
  {
   "cell_type": "code",
   "execution_count": 79,
   "id": "24d08ec9",
   "metadata": {},
   "outputs": [
    {
     "data": {
      "text/plain": [
       "{'id': 1, 'name': 'andrew', 'age': 24}"
      ]
     },
     "execution_count": 79,
     "metadata": {},
     "output_type": "execute_result"
    }
   ],
   "source": [
    "d1"
   ]
  },
  {
   "cell_type": "code",
   "execution_count": 80,
   "id": "7708e881",
   "metadata": {},
   "outputs": [],
   "source": [
    "d1['name']='jake'"
   ]
  },
  {
   "cell_type": "code",
   "execution_count": 81,
   "id": "2f6f9957",
   "metadata": {},
   "outputs": [
    {
     "data": {
      "text/plain": [
       "{'id': 1, 'name': 'jake', 'age': 24}"
      ]
     },
     "execution_count": 81,
     "metadata": {},
     "output_type": "execute_result"
    }
   ],
   "source": [
    "d1"
   ]
  },
  {
   "cell_type": "code",
   "execution_count": 82,
   "id": "227a9ca5",
   "metadata": {},
   "outputs": [],
   "source": [
    "d1.update({'fees':5000})"
   ]
  },
  {
   "cell_type": "code",
   "execution_count": 83,
   "id": "100008db",
   "metadata": {},
   "outputs": [
    {
     "data": {
      "text/plain": [
       "{'id': 1, 'name': 'jake', 'age': 24, 'fees': 5000}"
      ]
     },
     "execution_count": 83,
     "metadata": {},
     "output_type": "execute_result"
    }
   ],
   "source": [
    "d1"
   ]
  },
  {
   "cell_type": "markdown",
   "id": "fdb93058",
   "metadata": {},
   "source": []
  },
  {
   "cell_type": "code",
   "execution_count": 84,
   "id": "05cff7a7",
   "metadata": {},
   "outputs": [],
   "source": [
    "del d1['age']"
   ]
  },
  {
   "cell_type": "code",
   "execution_count": 85,
   "id": "e03d2c9c",
   "metadata": {},
   "outputs": [
    {
     "data": {
      "text/plain": [
       "{'id': 1, 'name': 'jake', 'fees': 5000}"
      ]
     },
     "execution_count": 85,
     "metadata": {},
     "output_type": "execute_result"
    }
   ],
   "source": [
    "d1"
   ]
  },
  {
   "cell_type": "code",
   "execution_count": 86,
   "id": "4884af4f",
   "metadata": {},
   "outputs": [],
   "source": [
    "d1['fees']=9500"
   ]
  },
  {
   "cell_type": "code",
   "execution_count": 87,
   "id": "0c94d396",
   "metadata": {},
   "outputs": [
    {
     "data": {
      "text/plain": [
       "{'id': 1, 'name': 'jake', 'fees': 9500}"
      ]
     },
     "execution_count": 87,
     "metadata": {},
     "output_type": "execute_result"
    }
   ],
   "source": [
    "d1"
   ]
  },
  {
   "cell_type": "code",
   "execution_count": 88,
   "id": "7cbc0a4c",
   "metadata": {},
   "outputs": [],
   "source": [
    "del d1['name']"
   ]
  },
  {
   "cell_type": "code",
   "execution_count": 89,
   "id": "cd8d41c8",
   "metadata": {},
   "outputs": [
    {
     "data": {
      "text/plain": [
       "{'id': 1, 'fees': 9500}"
      ]
     },
     "execution_count": 89,
     "metadata": {},
     "output_type": "execute_result"
    }
   ],
   "source": [
    "d1"
   ]
  },
  {
   "cell_type": "code",
   "execution_count": 90,
   "id": "927653f8",
   "metadata": {},
   "outputs": [],
   "source": [
    "d1.update({'Rollno':101})"
   ]
  },
  {
   "cell_type": "code",
   "execution_count": 91,
   "id": "20580e33",
   "metadata": {},
   "outputs": [
    {
     "data": {
      "text/plain": [
       "{'id': 1, 'fees': 9500, 'Rollno': 101}"
      ]
     },
     "execution_count": 91,
     "metadata": {},
     "output_type": "execute_result"
    }
   ],
   "source": [
    "d1"
   ]
  },
  {
   "cell_type": "code",
   "execution_count": 92,
   "id": "2b59902f",
   "metadata": {},
   "outputs": [
    {
     "data": {
      "text/plain": [
       "{'id': 1, 'fees': 9500, 'Rollno': 101}"
      ]
     },
     "execution_count": 92,
     "metadata": {},
     "output_type": "execute_result"
    }
   ],
   "source": [
    "d1"
   ]
  },
  {
   "cell_type": "code",
   "execution_count": 56,
   "id": "c7e2e439",
   "metadata": {},
   "outputs": [],
   "source": [
    "d1.clear()"
   ]
  },
  {
   "cell_type": "code",
   "execution_count": 58,
   "id": "1c74e840",
   "metadata": {},
   "outputs": [],
   "source": [
    "del d1"
   ]
  },
  {
   "cell_type": "code",
   "execution_count": 59,
   "id": "2ae66281",
   "metadata": {},
   "outputs": [
    {
     "ename": "NameError",
     "evalue": "name 'd1' is not defined",
     "output_type": "error",
     "traceback": [
      "\u001b[1;31m---------------------------------------------------------------------------\u001b[0m",
      "\u001b[1;31mNameError\u001b[0m                                 Traceback (most recent call last)",
      "Input \u001b[1;32mIn [59]\u001b[0m, in \u001b[0;36m<cell line: 1>\u001b[1;34m()\u001b[0m\n\u001b[1;32m----> 1\u001b[0m \u001b[43md1\u001b[49m\n",
      "\u001b[1;31mNameError\u001b[0m: name 'd1' is not defined"
     ]
    }
   ],
   "source": [
    "d1"
   ]
  },
  {
   "cell_type": "code",
   "execution_count": 115,
   "id": "3877cae8",
   "metadata": {},
   "outputs": [],
   "source": [
    "d2={'apple':'red','mango':'yellow','tree':'green'}"
   ]
  },
  {
   "cell_type": "code",
   "execution_count": 116,
   "id": "ad723562",
   "metadata": {},
   "outputs": [
    {
     "data": {
      "text/plain": [
       "{'apple': 'red', 'mango': 'yellow', 'tree': 'green'}"
      ]
     },
     "execution_count": 116,
     "metadata": {},
     "output_type": "execute_result"
    }
   ],
   "source": [
    "d2"
   ]
  },
  {
   "cell_type": "code",
   "execution_count": 117,
   "id": "a68763ea",
   "metadata": {},
   "outputs": [
    {
     "data": {
      "text/plain": [
       "dict_keys(['apple', 'mango', 'tree'])"
      ]
     },
     "execution_count": 117,
     "metadata": {},
     "output_type": "execute_result"
    }
   ],
   "source": [
    "d2.keys()"
   ]
  },
  {
   "cell_type": "markdown",
   "id": "d2246aa5",
   "metadata": {},
   "source": []
  },
  {
   "cell_type": "code",
   "execution_count": 118,
   "id": "5e83188b",
   "metadata": {},
   "outputs": [
    {
     "data": {
      "text/plain": [
       "dict_values(['red', 'yellow', 'green'])"
      ]
     },
     "execution_count": 118,
     "metadata": {},
     "output_type": "execute_result"
    }
   ],
   "source": [
    "d2.values()"
   ]
  },
  {
   "cell_type": "code",
   "execution_count": 119,
   "id": "4cd0e9bc",
   "metadata": {},
   "outputs": [
    {
     "data": {
      "text/plain": [
       "dict_items([('apple', 'red'), ('mango', 'yellow'), ('tree', 'green')])"
      ]
     },
     "execution_count": 119,
     "metadata": {},
     "output_type": "execute_result"
    }
   ],
   "source": [
    "d2.items()"
   ]
  },
  {
   "cell_type": "code",
   "execution_count": 120,
   "id": "960d4703",
   "metadata": {},
   "outputs": [],
   "source": [
    "d2.update({'brinjal':'purple'})"
   ]
  },
  {
   "cell_type": "code",
   "execution_count": 121,
   "id": "8c0940e2",
   "metadata": {},
   "outputs": [
    {
     "data": {
      "text/plain": [
       "{'apple': 'red', 'mango': 'yellow', 'tree': 'green', 'brinjal': 'purple'}"
      ]
     },
     "execution_count": 121,
     "metadata": {},
     "output_type": "execute_result"
    }
   ],
   "source": [
    "d2"
   ]
  },
  {
   "cell_type": "code",
   "execution_count": 122,
   "id": "9a8e2ff8",
   "metadata": {},
   "outputs": [
    {
     "data": {
      "text/plain": [
       "'red'"
      ]
     },
     "execution_count": 122,
     "metadata": {},
     "output_type": "execute_result"
    }
   ],
   "source": [
    "d2['apple']"
   ]
  },
  {
   "cell_type": "code",
   "execution_count": 123,
   "id": "9cdcb66a",
   "metadata": {},
   "outputs": [],
   "source": [
    "d2['apple']=\"red_yellow\""
   ]
  },
  {
   "cell_type": "code",
   "execution_count": 124,
   "id": "869a9242",
   "metadata": {},
   "outputs": [
    {
     "data": {
      "text/plain": [
       "{'apple': 'red_yellow',\n",
       " 'mango': 'yellow',\n",
       " 'tree': 'green',\n",
       " 'brinjal': 'purple'}"
      ]
     },
     "execution_count": 124,
     "metadata": {},
     "output_type": "execute_result"
    }
   ],
   "source": [
    "d2"
   ]
  },
  {
   "cell_type": "code",
   "execution_count": 125,
   "id": "41d0298c",
   "metadata": {},
   "outputs": [],
   "source": [
    "del d2['mango']"
   ]
  },
  {
   "cell_type": "code",
   "execution_count": 126,
   "id": "64640daf",
   "metadata": {},
   "outputs": [
    {
     "data": {
      "text/plain": [
       "{'apple': 'red_yellow', 'tree': 'green', 'brinjal': 'purple'}"
      ]
     },
     "execution_count": 126,
     "metadata": {},
     "output_type": "execute_result"
    }
   ],
   "source": [
    "d2"
   ]
  },
  {
   "cell_type": "code",
   "execution_count": 127,
   "id": "ccbd42b2",
   "metadata": {},
   "outputs": [],
   "source": [
    "d2.clear()"
   ]
  },
  {
   "cell_type": "code",
   "execution_count": 128,
   "id": "2ed4876d",
   "metadata": {},
   "outputs": [
    {
     "data": {
      "text/plain": [
       "{}"
      ]
     },
     "execution_count": 128,
     "metadata": {},
     "output_type": "execute_result"
    }
   ],
   "source": [
    "d2"
   ]
  },
  {
   "cell_type": "code",
   "execution_count": 129,
   "id": "5efb7e33",
   "metadata": {},
   "outputs": [],
   "source": [
    "del d2"
   ]
  },
  {
   "cell_type": "code",
   "execution_count": 130,
   "id": "e5c624e5",
   "metadata": {
    "scrolled": true
   },
   "outputs": [
    {
     "ename": "NameError",
     "evalue": "name 'd2' is not defined",
     "output_type": "error",
     "traceback": [
      "\u001b[1;31m---------------------------------------------------------------------------\u001b[0m",
      "\u001b[1;31mNameError\u001b[0m                                 Traceback (most recent call last)",
      "Input \u001b[1;32mIn [130]\u001b[0m, in \u001b[0;36m<cell line: 1>\u001b[1;34m()\u001b[0m\n\u001b[1;32m----> 1\u001b[0m \u001b[43md2\u001b[49m\n",
      "\u001b[1;31mNameError\u001b[0m: name 'd2' is not defined"
     ]
    }
   ],
   "source": [
    "d2"
   ]
  },
  {
   "cell_type": "code",
   "execution_count": 135,
   "id": "117f2883",
   "metadata": {},
   "outputs": [],
   "source": [
    "d3={1:['red','yellow','green'],2:['apple','mango','graps'],3:['rose','sunflower','lily']}"
   ]
  },
  {
   "cell_type": "code",
   "execution_count": 136,
   "id": "6a2d8ea3",
   "metadata": {},
   "outputs": [
    {
     "data": {
      "text/plain": [
       "{1: ['red', 'yellow', 'green'],\n",
       " 2: ['apple', 'mango', 'graps'],\n",
       " 3: ['rose', 'sunflower', 'lily']}"
      ]
     },
     "execution_count": 136,
     "metadata": {},
     "output_type": "execute_result"
    }
   ],
   "source": [
    "d3"
   ]
  },
  {
   "cell_type": "code",
   "execution_count": 137,
   "id": "9cbce19b",
   "metadata": {},
   "outputs": [
    {
     "data": {
      "text/plain": [
       "['red', 'yellow', 'green']"
      ]
     },
     "execution_count": 137,
     "metadata": {},
     "output_type": "execute_result"
    }
   ],
   "source": [
    "d3[1]"
   ]
  },
  {
   "cell_type": "code",
   "execution_count": 138,
   "id": "f118552d",
   "metadata": {},
   "outputs": [
    {
     "data": {
      "text/plain": [
       "['apple', 'mango', 'graps']"
      ]
     },
     "execution_count": 138,
     "metadata": {},
     "output_type": "execute_result"
    }
   ],
   "source": [
    "d3[2]"
   ]
  },
  {
   "cell_type": "code",
   "execution_count": 139,
   "id": "5cf88178",
   "metadata": {},
   "outputs": [
    {
     "data": {
      "text/plain": [
       "['rose', 'sunflower', 'lily']"
      ]
     },
     "execution_count": 139,
     "metadata": {},
     "output_type": "execute_result"
    }
   ],
   "source": [
    "d3[3]"
   ]
  },
  {
   "cell_type": "code",
   "execution_count": 140,
   "id": "5487d31c",
   "metadata": {},
   "outputs": [
    {
     "data": {
      "text/plain": [
       "['red', 'yellow', 'green']"
      ]
     },
     "execution_count": 140,
     "metadata": {},
     "output_type": "execute_result"
    }
   ],
   "source": [
    "d3[1]"
   ]
  },
  {
   "cell_type": "code",
   "execution_count": 141,
   "id": "26c0926c",
   "metadata": {},
   "outputs": [
    {
     "data": {
      "text/plain": [
       "'red'"
      ]
     },
     "execution_count": 141,
     "metadata": {},
     "output_type": "execute_result"
    }
   ],
   "source": [
    "d3[1][0]"
   ]
  },
  {
   "cell_type": "code",
   "execution_count": 142,
   "id": "d0d4eb7d",
   "metadata": {},
   "outputs": [
    {
     "data": {
      "text/plain": [
       "'yellow'"
      ]
     },
     "execution_count": 142,
     "metadata": {},
     "output_type": "execute_result"
    }
   ],
   "source": [
    "d3[1][1]"
   ]
  },
  {
   "cell_type": "code",
   "execution_count": 143,
   "id": "2e0f6c1e",
   "metadata": {},
   "outputs": [
    {
     "data": {
      "text/plain": [
       "'green'"
      ]
     },
     "execution_count": 143,
     "metadata": {},
     "output_type": "execute_result"
    }
   ],
   "source": [
    "d3[1][2]"
   ]
  },
  {
   "cell_type": "code",
   "execution_count": 144,
   "id": "39addd9d",
   "metadata": {},
   "outputs": [
    {
     "data": {
      "text/plain": [
       "['apple', 'mango', 'graps']"
      ]
     },
     "execution_count": 144,
     "metadata": {},
     "output_type": "execute_result"
    }
   ],
   "source": [
    "d3[2]"
   ]
  },
  {
   "cell_type": "code",
   "execution_count": 145,
   "id": "f751f7b5",
   "metadata": {},
   "outputs": [
    {
     "data": {
      "text/plain": [
       "'apple'"
      ]
     },
     "execution_count": 145,
     "metadata": {},
     "output_type": "execute_result"
    }
   ],
   "source": [
    "d3[2][0]"
   ]
  },
  {
   "cell_type": "code",
   "execution_count": 146,
   "id": "1c1f23c5",
   "metadata": {},
   "outputs": [
    {
     "data": {
      "text/plain": [
       "'mango'"
      ]
     },
     "execution_count": 146,
     "metadata": {},
     "output_type": "execute_result"
    }
   ],
   "source": [
    "d3[2][1]"
   ]
  },
  {
   "cell_type": "code",
   "execution_count": 147,
   "id": "0f329ec6",
   "metadata": {},
   "outputs": [
    {
     "data": {
      "text/plain": [
       "'graps'"
      ]
     },
     "execution_count": 147,
     "metadata": {},
     "output_type": "execute_result"
    }
   ],
   "source": [
    "d3[2][2]"
   ]
  },
  {
   "cell_type": "code",
   "execution_count": 148,
   "id": "8c1281be",
   "metadata": {},
   "outputs": [],
   "source": [
    "d3[2][2]=\"pineapple\""
   ]
  },
  {
   "cell_type": "code",
   "execution_count": 149,
   "id": "956a4fd9",
   "metadata": {},
   "outputs": [
    {
     "data": {
      "text/plain": [
       "{1: ['red', 'yellow', 'green'],\n",
       " 2: ['apple', 'mango', 'pineapple'],\n",
       " 3: ['rose', 'sunflower', 'lily']}"
      ]
     },
     "execution_count": 149,
     "metadata": {},
     "output_type": "execute_result"
    }
   ],
   "source": [
    "d3"
   ]
  },
  {
   "cell_type": "markdown",
   "id": "4b5213f6",
   "metadata": {},
   "source": [
    " sets"
   ]
  },
  {
   "cell_type": "code",
   "execution_count": 150,
   "id": "daba41b3",
   "metadata": {},
   "outputs": [
    {
     "data": {
      "text/plain": [
       "{22, 33, 56, 78, 90}"
      ]
     },
     "execution_count": 150,
     "metadata": {},
     "output_type": "execute_result"
    }
   ],
   "source": [
    "x={22,33,56,78,90}\n",
    "x"
   ]
  },
  {
   "cell_type": "code",
   "execution_count": 152,
   "id": "555366bf",
   "metadata": {},
   "outputs": [
    {
     "data": {
      "text/plain": [
       "{33, 44, 55, 66, 77}"
      ]
     },
     "execution_count": 152,
     "metadata": {},
     "output_type": "execute_result"
    }
   ],
   "source": [
    "y=set([33,44,55,66,77])\n",
    "y"
   ]
  },
  {
   "cell_type": "code",
   "execution_count": 153,
   "id": "ea2269e9",
   "metadata": {},
   "outputs": [],
   "source": [
    "p={78,45,33,20,12,65,90}"
   ]
  },
  {
   "cell_type": "code",
   "execution_count": 154,
   "id": "e0471bb4",
   "metadata": {},
   "outputs": [
    {
     "data": {
      "text/plain": [
       "{12, 20, 33, 45, 65, 78, 90}"
      ]
     },
     "execution_count": 154,
     "metadata": {},
     "output_type": "execute_result"
    }
   ],
   "source": [
    "p"
   ]
  },
  {
   "cell_type": "code",
   "execution_count": 155,
   "id": "a3cb4761",
   "metadata": {},
   "outputs": [],
   "source": [
    "days={\"monday\",\"tuesday\",\"wednesday\",}"
   ]
  },
  {
   "cell_type": "code",
   "execution_count": 156,
   "id": "33ca48f3",
   "metadata": {},
   "outputs": [
    {
     "data": {
      "text/plain": [
       "{'monday', 'tuesday', 'wednesday'}"
      ]
     },
     "execution_count": 156,
     "metadata": {},
     "output_type": "execute_result"
    }
   ],
   "source": [
    "days"
   ]
  },
  {
   "cell_type": "code",
   "execution_count": null,
   "id": "a6d0d719",
   "metadata": {},
   "outputs": [],
   "source": []
  }
 ],
 "metadata": {
  "kernelspec": {
   "display_name": "Python 3 (ipykernel)",
   "language": "python",
   "name": "python3"
  },
  "language_info": {
   "codemirror_mode": {
    "name": "ipython",
    "version": 3
   },
   "file_extension": ".py",
   "mimetype": "text/x-python",
   "name": "python",
   "nbconvert_exporter": "python",
   "pygments_lexer": "ipython3",
   "version": "3.9.12"
  }
 },
 "nbformat": 4,
 "nbformat_minor": 5
}
